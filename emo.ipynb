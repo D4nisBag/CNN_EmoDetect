{
 "cells": [
  {
   "cell_type": "code",
   "execution_count": 45,
   "metadata": {},
   "outputs": [],
   "source": [
    "%%capture\n",
    "%pip install tensorflow pandas"
   ]
  },
  {
   "cell_type": "markdown",
   "metadata": {},
   "source": [
    "Подключение библиотек:"
   ]
  },
  {
   "cell_type": "code",
   "execution_count": 46,
   "metadata": {},
   "outputs": [],
   "source": [
    "\n",
    "from tensorflow.keras.models import Sequential\n",
    "from tensorflow.keras.layers import Dense, Embedding, MaxPooling1D, Conv1D, GlobalMaxPooling1D, Dropout, LSTM, GRU\n",
    "from tensorflow.keras import utils\n",
    "from tensorflow.keras.preprocessing.sequence import pad_sequences\n",
    "from tensorflow.keras.preprocessing.text import Tokenizer\n",
    "from tensorflow.keras.callbacks import ModelCheckpoint\n",
    "from tensorflow.keras import utils\n",
    "import pandas as pd\n",
    "import numpy as np\n",
    "import matplotlib.pyplot as plt\n",
    "%matplotlib inline "
   ]
  },
  {
   "cell_type": "code",
   "execution_count": 47,
   "metadata": {},
   "outputs": [],
   "source": [
    "# Максимальное количество слов \n",
    "num_words = 10000\n",
    "# Максимальная длина сообщения\n",
    "max_messages_len = 30\n",
    "# Количество классов сообщений\n",
    "nb_classes = 6"
   ]
  },
  {
   "cell_type": "code",
   "execution_count": 49,
   "metadata": {},
   "outputs": [],
   "source": [
    "# import csv\n",
    "# with open('val.txt', 'r') as in_file:\n",
    "#     stripped = (line.strip() for line in in_file)\n",
    "#     lines = (line.split(\",\") for line in stripped if line)\n",
    "#     with open('val.csv', 'w') as out_file:\n",
    "#         writer = csv.writer(out_file)\n",
    "#         writer.writerows(lines)"
   ]
  },
  {
   "cell_type": "markdown",
   "metadata": {},
   "source": [
    "Считываем данные из файла для тренировки создаваемой модели нейросети:"
   ]
  },
  {
   "cell_type": "code",
   "execution_count": 50,
   "metadata": {},
   "outputs": [],
   "source": [
    "train = pd.read_csv('train.csv',\n",
    "                    sep = ';',\n",
    "                    header=None, \n",
    "                    names=['text', 'class'])"
   ]
  },
  {
   "cell_type": "code",
   "execution_count": 51,
   "metadata": {},
   "outputs": [
    {
     "data": {
      "text/html": [
       "<div>\n",
       "<style scoped>\n",
       "    .dataframe tbody tr th:only-of-type {\n",
       "        vertical-align: middle;\n",
       "    }\n",
       "\n",
       "    .dataframe tbody tr th {\n",
       "        vertical-align: top;\n",
       "    }\n",
       "\n",
       "    .dataframe thead th {\n",
       "        text-align: right;\n",
       "    }\n",
       "</style>\n",
       "<table border=\"1\" class=\"dataframe\">\n",
       "  <thead>\n",
       "    <tr style=\"text-align: right;\">\n",
       "      <th></th>\n",
       "      <th>text</th>\n",
       "      <th>class</th>\n",
       "    </tr>\n",
       "  </thead>\n",
       "  <tbody>\n",
       "    <tr>\n",
       "      <th>0</th>\n",
       "      <td>i didnt feel humiliated</td>\n",
       "      <td>1</td>\n",
       "    </tr>\n",
       "    <tr>\n",
       "      <th>1</th>\n",
       "      <td>i can go from feeling so hopeless to so damned...</td>\n",
       "      <td>1</td>\n",
       "    </tr>\n",
       "    <tr>\n",
       "      <th>2</th>\n",
       "      <td>im grabbing a minute to post i feel greedy wrong</td>\n",
       "      <td>4</td>\n",
       "    </tr>\n",
       "    <tr>\n",
       "      <th>3</th>\n",
       "      <td>i am ever feeling nostalgic about the fireplac...</td>\n",
       "      <td>3</td>\n",
       "    </tr>\n",
       "    <tr>\n",
       "      <th>4</th>\n",
       "      <td>i am feeling grouchy</td>\n",
       "      <td>4</td>\n",
       "    </tr>\n",
       "    <tr>\n",
       "      <th>...</th>\n",
       "      <td>...</td>\n",
       "      <td>...</td>\n",
       "    </tr>\n",
       "    <tr>\n",
       "      <th>15995</th>\n",
       "      <td>i just had a very brief time in the beanbag an...</td>\n",
       "      <td>1</td>\n",
       "    </tr>\n",
       "    <tr>\n",
       "      <th>15996</th>\n",
       "      <td>i am now turning and i feel pathetic that i am...</td>\n",
       "      <td>1</td>\n",
       "    </tr>\n",
       "    <tr>\n",
       "      <th>15997</th>\n",
       "      <td>i feel strong and good overall</td>\n",
       "      <td>2</td>\n",
       "    </tr>\n",
       "    <tr>\n",
       "      <th>15998</th>\n",
       "      <td>i feel like this was such a rude comment and i...</td>\n",
       "      <td>4</td>\n",
       "    </tr>\n",
       "    <tr>\n",
       "      <th>15999</th>\n",
       "      <td>i know a lot but i feel so stupid because i ca...</td>\n",
       "      <td>1</td>\n",
       "    </tr>\n",
       "  </tbody>\n",
       "</table>\n",
       "<p>16000 rows × 2 columns</p>\n",
       "</div>"
      ],
      "text/plain": [
       "                                                    text  class\n",
       "0                                i didnt feel humiliated      1\n",
       "1      i can go from feeling so hopeless to so damned...      1\n",
       "2       im grabbing a minute to post i feel greedy wrong      4\n",
       "3      i am ever feeling nostalgic about the fireplac...      3\n",
       "4                                   i am feeling grouchy      4\n",
       "...                                                  ...    ...\n",
       "15995  i just had a very brief time in the beanbag an...      1\n",
       "15996  i am now turning and i feel pathetic that i am...      1\n",
       "15997                     i feel strong and good overall      2\n",
       "15998  i feel like this was such a rude comment and i...      4\n",
       "15999  i know a lot but i feel so stupid because i ca...      1\n",
       "\n",
       "[16000 rows x 2 columns]"
      ]
     },
     "execution_count": 51,
     "metadata": {},
     "output_type": "execute_result"
    }
   ],
   "source": [
    "train"
   ]
  },
  {
   "cell_type": "markdown",
   "metadata": {},
   "source": [
    "Выделяем для обучения столбец 'text'"
   ]
  },
  {
   "cell_type": "code",
   "execution_count": 52,
   "metadata": {},
   "outputs": [],
   "source": [
    "messages = train['text']"
   ]
  },
  {
   "cell_type": "code",
   "execution_count": 53,
   "metadata": {},
   "outputs": [
    {
     "data": {
      "text/plain": [
       "0                              i didnt feel humiliated\n",
       "1    i can go from feeling so hopeless to so damned...\n",
       "2     im grabbing a minute to post i feel greedy wrong\n",
       "3    i am ever feeling nostalgic about the fireplac...\n",
       "4                                 i am feeling grouchy\n",
       "Name: text, dtype: object"
      ]
     },
     "execution_count": 53,
     "metadata": {},
     "output_type": "execute_result"
    }
   ],
   "source": [
    "messages[:5]"
   ]
  },
  {
   "cell_type": "markdown",
   "metadata": {},
   "source": [
    "Далее выделяем правильные ответы из столбца 'class'"
   ]
  },
  {
   "cell_type": "code",
   "execution_count": 54,
   "metadata": {},
   "outputs": [
    {
     "data": {
      "text/plain": [
       "array([[1., 0., 0., 0., 0., 0.],\n",
       "       [1., 0., 0., 0., 0., 0.],\n",
       "       [0., 0., 0., 1., 0., 0.],\n",
       "       ...,\n",
       "       [0., 1., 0., 0., 0., 0.],\n",
       "       [0., 0., 0., 1., 0., 0.],\n",
       "       [1., 0., 0., 0., 0., 0.]], dtype=float32)"
      ]
     },
     "execution_count": 54,
     "metadata": {},
     "output_type": "execute_result"
    }
   ],
   "source": [
    "y_train = utils.to_categorical(train['class'] - 1, nb_classes)\n",
    "y_train"
   ]
  },
  {
   "cell_type": "markdown",
   "metadata": {},
   "source": [
    "Далее идет токенизация текста(представление текста в числовом формате, так как с числами работать проще), используется токенизатор из библиотеки Keras"
   ]
  },
  {
   "cell_type": "code",
   "execution_count": 55,
   "metadata": {},
   "outputs": [],
   "source": [
    "tokenizer = Tokenizer(num_words=num_words)"
   ]
  },
  {
   "cell_type": "markdown",
   "metadata": {},
   "source": [
    "Обучаем токенизатор на столбце с сообщении из датасета:"
   ]
  },
  {
   "cell_type": "code",
   "execution_count": 56,
   "metadata": {},
   "outputs": [],
   "source": [
    "tokenizer.fit_on_texts(messages)"
   ]
  },
  {
   "cell_type": "markdown",
   "metadata": {},
   "source": [
    "Далее можно посмотреть словарь слов с присвоенными каждому слову числовым значением"
   ]
  },
  {
   "cell_type": "code",
   "execution_count": 57,
   "metadata": {},
   "outputs": [
    {
     "data": {
      "text/plain": [
       "{'i': 1,\n",
       " 'feel': 2,\n",
       " 'and': 3,\n",
       " 'to': 4,\n",
       " 'the': 5,\n",
       " 'a': 6,\n",
       " 'feeling': 7,\n",
       " 'that': 8,\n",
       " 'of': 9,\n",
       " 'my': 10,\n",
       " 'in': 11,\n",
       " 'it': 12,\n",
       " 'like': 13,\n",
       " 'so': 14,\n",
       " 'for': 15,\n",
       " 'im': 16,\n",
       " 'me': 17,\n",
       " 'but': 18,\n",
       " 'was': 19,\n",
       " 'have': 20,\n",
       " 'is': 21,\n",
       " 'this': 22,\n",
       " 'am': 23,\n",
       " 'with': 24,\n",
       " 'not': 25,\n",
       " 'about': 26,\n",
       " 'be': 27,\n",
       " 'as': 28,\n",
       " 'on': 29,\n",
       " 'you': 30,\n",
       " 'just': 31,\n",
       " 'at': 32,\n",
       " 'when': 33,\n",
       " 'or': 34,\n",
       " 'all': 35,\n",
       " 'because': 36,\n",
       " 'more': 37,\n",
       " 'do': 38,\n",
       " 'can': 39,\n",
       " 'really': 40,\n",
       " 'up': 41,\n",
       " 't': 42,\n",
       " 'are': 43,\n",
       " 'by': 44,\n",
       " 'very': 45,\n",
       " 'know': 46,\n",
       " 'been': 47,\n",
       " 'if': 48,\n",
       " 'out': 49,\n",
       " 'myself': 50,\n",
       " 'time': 51,\n",
       " 'how': 52,\n",
       " 'what': 53,\n",
       " 'get': 54,\n",
       " 'little': 55,\n",
       " 'had': 56,\n",
       " 'now': 57,\n",
       " 'will': 58,\n",
       " 'from': 59,\n",
       " 'being': 60,\n",
       " 'they': 61,\n",
       " 'people': 62,\n",
       " 'them': 63,\n",
       " 'would': 64,\n",
       " 'he': 65,\n",
       " 'want': 66,\n",
       " 'her': 67,\n",
       " 'some': 68,\n",
       " 'think': 69,\n",
       " 'one': 70,\n",
       " 'still': 71,\n",
       " 'ive': 72,\n",
       " 'him': 73,\n",
       " 'even': 74,\n",
       " 'who': 75,\n",
       " 'an': 76,\n",
       " 'life': 77,\n",
       " 'its': 78,\n",
       " 'make': 79,\n",
       " 'there': 80,\n",
       " 'we': 81,\n",
       " 'bit': 82,\n",
       " 'something': 83,\n",
       " 'love': 84,\n",
       " 'much': 85,\n",
       " 'going': 86,\n",
       " 'dont': 87,\n",
       " 'things': 88,\n",
       " 's': 89,\n",
       " 'way': 90,\n",
       " 'could': 91,\n",
       " 'm': 92,\n",
       " 'too': 93,\n",
       " 'than': 94,\n",
       " 'no': 95,\n",
       " 'day': 96,\n",
       " 'she': 97,\n",
       " 'has': 98,\n",
       " 'back': 99,\n",
       " 'go': 100,\n",
       " 'good': 101,\n",
       " 'pretty': 102,\n",
       " 'don': 103,\n",
       " 'need': 104,\n",
       " 'into': 105,\n",
       " 'his': 106,\n",
       " 'which': 107,\n",
       " 'these': 108,\n",
       " 'your': 109,\n",
       " 'their': 110,\n",
       " 'always': 111,\n",
       " 'see': 112,\n",
       " 'right': 113,\n",
       " 'feelings': 114,\n",
       " 'over': 115,\n",
       " 'also': 116,\n",
       " 'only': 117,\n",
       " 'say': 118,\n",
       " 'other': 119,\n",
       " 'should': 120,\n",
       " 'today': 121,\n",
       " 'feels': 122,\n",
       " 'work': 123,\n",
       " 'then': 124,\n",
       " 'after': 125,\n",
       " 'did': 126,\n",
       " 'around': 127,\n",
       " 'again': 128,\n",
       " 'were': 129,\n",
       " 'cant': 130,\n",
       " 'made': 131,\n",
       " 'our': 132,\n",
       " 'most': 133,\n",
       " 'well': 134,\n",
       " 'here': 135,\n",
       " 'though': 136,\n",
       " 'through': 137,\n",
       " 'didnt': 138,\n",
       " 'help': 139,\n",
       " 'got': 140,\n",
       " 'down': 141,\n",
       " 'those': 142,\n",
       " 'felt': 143,\n",
       " 'never': 144,\n",
       " 'any': 145,\n",
       " 'every': 146,\n",
       " 'someone': 147,\n",
       " 'days': 148,\n",
       " 'having': 149,\n",
       " 'less': 150,\n",
       " 'makes': 151,\n",
       " 'where': 152,\n",
       " 'happy': 153,\n",
       " 'doing': 154,\n",
       " 'enough': 155,\n",
       " 'quite': 156,\n",
       " 'sure': 157,\n",
       " 'lot': 158,\n",
       " 'many': 159,\n",
       " 'why': 160,\n",
       " 'away': 161,\n",
       " 'look': 162,\n",
       " 'find': 163,\n",
       " 'ever': 164,\n",
       " 'anything': 165,\n",
       " 'home': 166,\n",
       " 'kind': 167,\n",
       " 'off': 168,\n",
       " 'better': 169,\n",
       " 'person': 170,\n",
       " 'left': 171,\n",
       " 'friends': 172,\n",
       " 'without': 173,\n",
       " 'own': 174,\n",
       " 'before': 175,\n",
       " 'everything': 176,\n",
       " 'actually': 177,\n",
       " 'last': 178,\n",
       " 'getting': 179,\n",
       " 'such': 180,\n",
       " 'come': 181,\n",
       " 'take': 182,\n",
       " 'world': 183,\n",
       " 'new': 184,\n",
       " 'sometimes': 185,\n",
       " 'while': 186,\n",
       " 'http': 187,\n",
       " 'thing': 188,\n",
       " 'remember': 189,\n",
       " 'trying': 190,\n",
       " 'few': 191,\n",
       " 'year': 192,\n",
       " 'thought': 193,\n",
       " 'first': 194,\n",
       " 'times': 195,\n",
       " 'family': 196,\n",
       " 'started': 197,\n",
       " 'able': 198,\n",
       " 'said': 199,\n",
       " 'alone': 200,\n",
       " 'week': 201,\n",
       " 'rather': 202,\n",
       " 'try': 203,\n",
       " 'making': 204,\n",
       " 'long': 205,\n",
       " 'let': 206,\n",
       " 'already': 207,\n",
       " 'keep': 208,\n",
       " 'href': 209,\n",
       " 'bad': 210,\n",
       " 'ill': 211,\n",
       " 'start': 212,\n",
       " 'us': 213,\n",
       " 'years': 214,\n",
       " 'read': 215,\n",
       " 'others': 216,\n",
       " 'yet': 217,\n",
       " 'two': 218,\n",
       " 'give': 219,\n",
       " 'tell': 220,\n",
       " 'may': 221,\n",
       " 'place': 222,\n",
       " 'same': 223,\n",
       " 'write': 224,\n",
       " 'since': 225,\n",
       " 'nothing': 226,\n",
       " 'end': 227,\n",
       " 'heart': 228,\n",
       " 'part': 229,\n",
       " 'often': 230,\n",
       " 'hate': 231,\n",
       " 'stressed': 232,\n",
       " 'strange': 233,\n",
       " 'sweet': 234,\n",
       " 'moment': 235,\n",
       " 'morning': 236,\n",
       " 'overwhelmed': 237,\n",
       " 'hope': 238,\n",
       " 'might': 239,\n",
       " 'school': 240,\n",
       " 'god': 241,\n",
       " 'blog': 242,\n",
       " 'anyone': 243,\n",
       " 'didn': 244,\n",
       " 'night': 245,\n",
       " 'weird': 246,\n",
       " 'put': 247,\n",
       " 'id': 248,\n",
       " 'hard': 249,\n",
       " 'friend': 250,\n",
       " 'guess': 251,\n",
       " 'looking': 252,\n",
       " 'stop': 253,\n",
       " 'wanted': 254,\n",
       " 'everyone': 255,\n",
       " 'once': 256,\n",
       " 'whole': 257,\n",
       " 'point': 258,\n",
       " 'sad': 259,\n",
       " 'pain': 260,\n",
       " 'does': 261,\n",
       " 'thinking': 262,\n",
       " 'angry': 263,\n",
       " 'another': 264,\n",
       " 'loved': 265,\n",
       " 'old': 266,\n",
       " 'excited': 267,\n",
       " 'went': 268,\n",
       " 'lost': 269,\n",
       " 'hurt': 270,\n",
       " 'amazing': 271,\n",
       " 'blessed': 272,\n",
       " 'done': 273,\n",
       " 'each': 274,\n",
       " 'writing': 275,\n",
       " 'passionate': 276,\n",
       " 'understand': 277,\n",
       " 'body': 278,\n",
       " 'talk': 279,\n",
       " 'important': 280,\n",
       " 'maybe': 281,\n",
       " 'stupid': 282,\n",
       " 'almost': 283,\n",
       " 'completely': 284,\n",
       " 'post': 285,\n",
       " 'self': 286,\n",
       " 'tired': 287,\n",
       " 'least': 288,\n",
       " 've': 289,\n",
       " 'especially': 290,\n",
       " 'next': 291,\n",
       " 'helpless': 292,\n",
       " 'accepted': 293,\n",
       " 'free': 294,\n",
       " 'must': 295,\n",
       " 'use': 296,\n",
       " 'past': 297,\n",
       " 'best': 298,\n",
       " 'leave': 299,\n",
       " 'afraid': 300,\n",
       " 'face': 301,\n",
       " 'hated': 302,\n",
       " 'mean': 303,\n",
       " 'great': 304,\n",
       " 'used': 305,\n",
       " 'sense': 306,\n",
       " 'agitated': 307,\n",
       " 'cold': 308,\n",
       " 'fact': 309,\n",
       " 'thats': 310,\n",
       " 'care': 311,\n",
       " 'job': 312,\n",
       " 'real': 313,\n",
       " 'mind': 314,\n",
       " 'starting': 315,\n",
       " 'believe': 316,\n",
       " 'inside': 317,\n",
       " 'lately': 318,\n",
       " 'else': 319,\n",
       " 'girl': 320,\n",
       " 'towards': 321,\n",
       " 'found': 322,\n",
       " 'sleep': 323,\n",
       " 'totally': 324,\n",
       " 'reason': 325,\n",
       " 'strong': 326,\n",
       " 'wasnt': 327,\n",
       " 'taking': 328,\n",
       " 'book': 329,\n",
       " 'live': 330,\n",
       " 'until': 331,\n",
       " 'supporting': 332,\n",
       " 'thankful': 333,\n",
       " 'anxious': 334,\n",
       " 'class': 335,\n",
       " 'nervous': 336,\n",
       " 'probably': 337,\n",
       " 'low': 338,\n",
       " 'glad': 339,\n",
       " 'ok': 340,\n",
       " 'generous': 341,\n",
       " 'sorry': 342,\n",
       " 'sort': 343,\n",
       " 'become': 344,\n",
       " 'share': 345,\n",
       " 'loving': 346,\n",
       " 'told': 347,\n",
       " 'words': 348,\n",
       " 'months': 349,\n",
       " 'slightly': 350,\n",
       " 'far': 351,\n",
       " 'wonderful': 352,\n",
       " 'head': 353,\n",
       " 'saying': 354,\n",
       " 'perfect': 355,\n",
       " 'reading': 356,\n",
       " 'kids': 357,\n",
       " 'house': 358,\n",
       " 'came': 359,\n",
       " 'depressed': 360,\n",
       " 'wish': 361,\n",
       " 'safe': 362,\n",
       " 'lonely': 363,\n",
       " 'cool': 364,\n",
       " 'frustrated': 365,\n",
       " 'special': 366,\n",
       " 'show': 367,\n",
       " 'particularly': 368,\n",
       " 'working': 369,\n",
       " 'comfortable': 370,\n",
       " 're': 371,\n",
       " 'scared': 372,\n",
       " 'man': 373,\n",
       " 'coming': 374,\n",
       " 'extremely': 375,\n",
       " 'hear': 376,\n",
       " 'guilty': 377,\n",
       " 'child': 378,\n",
       " 'horrible': 379,\n",
       " 'fine': 380,\n",
       " 'positive': 381,\n",
       " 'bed': 382,\n",
       " 'big': 383,\n",
       " 'emotional': 384,\n",
       " 'children': 385,\n",
       " 'during': 386,\n",
       " 'call': 387,\n",
       " 'confident': 388,\n",
       " 'run': 389,\n",
       " 'amp': 390,\n",
       " 'beloved': 391,\n",
       " 'miserable': 392,\n",
       " 'stuff': 393,\n",
       " 'truly': 394,\n",
       " 'hot': 395,\n",
       " 'terrified': 396,\n",
       " 'thoughts': 397,\n",
       " 'exhausted': 398,\n",
       " 'missed': 399,\n",
       " 'cannot': 400,\n",
       " 'eyes': 401,\n",
       " 'lovely': 402,\n",
       " 'proud': 403,\n",
       " 'tortured': 404,\n",
       " 'ashamed': 405,\n",
       " 'living': 406,\n",
       " 'finally': 407,\n",
       " 'woke': 408,\n",
       " 'control': 409,\n",
       " 'liked': 410,\n",
       " 'irritable': 411,\n",
       " 'hours': 412,\n",
       " 'mother': 413,\n",
       " 'satisfied': 414,\n",
       " 'room': 415,\n",
       " 'anymore': 416,\n",
       " 'havent': 417,\n",
       " 'future': 418,\n",
       " 'awkward': 419,\n",
       " 'walk': 420,\n",
       " 'admit': 421,\n",
       " 'together': 422,\n",
       " 'mad': 423,\n",
       " 'close': 424,\n",
       " 'content': 425,\n",
       " 'selfish': 426,\n",
       " 'seem': 427,\n",
       " 'change': 428,\n",
       " 'usually': 429,\n",
       " 'story': 430,\n",
       " 'lucky': 431,\n",
       " 'successful': 432,\n",
       " 'doesnt': 433,\n",
       " 'disappointed': 434,\n",
       " 'caring': 435,\n",
       " 'spent': 436,\n",
       " 'wrong': 437,\n",
       " 'confused': 438,\n",
       " 'experience': 439,\n",
       " 'unsure': 440,\n",
       " 'woman': 441,\n",
       " 'miss': 442,\n",
       " 'decided': 443,\n",
       " 'wont': 444,\n",
       " 'lethargic': 445,\n",
       " 'amazed': 446,\n",
       " 'super': 447,\n",
       " 'fun': 448,\n",
       " 'matter': 449,\n",
       " 'somehow': 450,\n",
       " 'instead': 451,\n",
       " 'unhappy': 452,\n",
       " 'bothered': 453,\n",
       " 'funny': 454,\n",
       " 'energy': 455,\n",
       " 'longer': 456,\n",
       " 'creative': 457,\n",
       " 'inspired': 458,\n",
       " 'mom': 459,\n",
       " 'popular': 460,\n",
       " 'knew': 461,\n",
       " 'baby': 462,\n",
       " 'seems': 463,\n",
       " 'couldnt': 464,\n",
       " 'side': 465,\n",
       " 'embarrassed': 466,\n",
       " 'small': 467,\n",
       " 'shitty': 468,\n",
       " 'vulnerable': 469,\n",
       " 'annoyed': 470,\n",
       " 'cute': 471,\n",
       " 'full': 472,\n",
       " 'somewhat': 473,\n",
       " 'brave': 474,\n",
       " 'talented': 475,\n",
       " 'situation': 476,\n",
       " 'enjoy': 477,\n",
       " 'move': 478,\n",
       " 'weeks': 479,\n",
       " 'between': 480,\n",
       " 'rest': 481,\n",
       " 'running': 482,\n",
       " 'ask': 483,\n",
       " 'calm': 484,\n",
       " 'idea': 485,\n",
       " 'awful': 486,\n",
       " 'rich': 487,\n",
       " 'terrible': 488,\n",
       " 'knowing': 489,\n",
       " 'ago': 490,\n",
       " 'convinced': 491,\n",
       " 'both': 492,\n",
       " 'hopeless': 493,\n",
       " 'greedy': 494,\n",
       " 'surprised': 495,\n",
       " 'shaken': 496,\n",
       " 'uncomfortable': 497,\n",
       " 'punished': 498,\n",
       " 'absolutely': 499,\n",
       " 'needed': 500,\n",
       " 'empty': 501,\n",
       " 'uncertain': 502,\n",
       " 'precious': 503,\n",
       " 'irritated': 504,\n",
       " 'fucked': 505,\n",
       " 'hes': 506,\n",
       " 'sit': 507,\n",
       " 'money': 508,\n",
       " 'comes': 509,\n",
       " 'insecure': 510,\n",
       " 'melancholy': 511,\n",
       " 'impressed': 512,\n",
       " 'discouraged': 513,\n",
       " 'aching': 514,\n",
       " 'wear': 515,\n",
       " 'offended': 516,\n",
       " 'happen': 517,\n",
       " 'food': 518,\n",
       " 'devastated': 519,\n",
       " 'burdened': 520,\n",
       " 'rejected': 521,\n",
       " 'support': 522,\n",
       " 'eat': 523,\n",
       " 'asked': 524,\n",
       " 'useful': 525,\n",
       " 'hair': 526,\n",
       " 'jealous': 527,\n",
       " 'resentful': 528,\n",
       " 'divine': 529,\n",
       " 'violent': 530,\n",
       " 'talking': 531,\n",
       " 'soon': 532,\n",
       " 'homesick': 533,\n",
       " 'nice': 534,\n",
       " 'sitting': 535,\n",
       " 'wonder': 536,\n",
       " 'simply': 537,\n",
       " 'reluctant': 538,\n",
       " 'dull': 539,\n",
       " 'll': 540,\n",
       " 'husband': 541,\n",
       " 'pleasant': 542,\n",
       " 'seeing': 543,\n",
       " 'different': 544,\n",
       " 'giving': 545,\n",
       " 'watch': 546,\n",
       " 'isolated': 547,\n",
       " 'turn': 548,\n",
       " 'women': 549,\n",
       " 'open': 550,\n",
       " 'happened': 551,\n",
       " 'hopeful': 552,\n",
       " 'however': 553,\n",
       " 'beautiful': 554,\n",
       " 'whether': 555,\n",
       " 'cause': 556,\n",
       " 'music': 557,\n",
       " 'cranky': 558,\n",
       " 'respected': 559,\n",
       " 'youre': 560,\n",
       " 'hand': 561,\n",
       " 'paranoid': 562,\n",
       " 'tonight': 563,\n",
       " 'useless': 564,\n",
       " 'began': 565,\n",
       " 'kinda': 566,\n",
       " 'rude': 567,\n",
       " 'mine': 568,\n",
       " 'gorgeous': 569,\n",
       " 'rushed': 570,\n",
       " 'apprehensive': 571,\n",
       " 'assured': 572,\n",
       " 'curious': 573,\n",
       " 'stay': 574,\n",
       " 'ways': 575,\n",
       " 'theres': 576,\n",
       " 'beaten': 577,\n",
       " 'wanting': 578,\n",
       " 'insulted': 579,\n",
       " 'determined': 580,\n",
       " 'pressured': 581,\n",
       " 'honored': 582,\n",
       " 'relaxed': 583,\n",
       " 'ugly': 584,\n",
       " 'sick': 585,\n",
       " 'pissed': 586,\n",
       " 'groggy': 587,\n",
       " 'innocent': 588,\n",
       " 'gloomy': 589,\n",
       " 'valuable': 590,\n",
       " 'guy': 591,\n",
       " 'unwelcome': 592,\n",
       " 'parents': 593,\n",
       " 'took': 594,\n",
       " 'ready': 595,\n",
       " 'wronged': 596,\n",
       " 'either': 597,\n",
       " 'valued': 598,\n",
       " 'gone': 599,\n",
       " 'certain': 600,\n",
       " 'dangerous': 601,\n",
       " 'incredibly': 602,\n",
       " 'honestly': 603,\n",
       " 'watching': 604,\n",
       " 'wake': 605,\n",
       " 'numb': 606,\n",
       " 'optimistic': 607,\n",
       " 'set': 608,\n",
       " 'dissatisfied': 609,\n",
       " 'pathetic': 610,\n",
       " 'needs': 611,\n",
       " 'couple': 612,\n",
       " 'faithful': 613,\n",
       " 'against': 614,\n",
       " 'intimidated': 615,\n",
       " 'shy': 616,\n",
       " 'blank': 617,\n",
       " 'sympathetic': 618,\n",
       " 'ignored': 619,\n",
       " 'crappy': 620,\n",
       " 'friendly': 621,\n",
       " 'dumb': 622,\n",
       " 'books': 623,\n",
       " 'joyful': 624,\n",
       " 'heartbroken': 625,\n",
       " 'dirty': 626,\n",
       " 'song': 627,\n",
       " 'bitter': 628,\n",
       " 'superior': 629,\n",
       " 'worthless': 630,\n",
       " 'cry': 631,\n",
       " 'three': 632,\n",
       " 'shes': 633,\n",
       " 'relationship': 634,\n",
       " 'disheartened': 635,\n",
       " 'sincere': 636,\n",
       " 'longing': 637,\n",
       " 'smart': 638,\n",
       " 'weekend': 639,\n",
       " 'threatened': 640,\n",
       " 'pleased': 641,\n",
       " 'festive': 642,\n",
       " 'realize': 643,\n",
       " 'high': 644,\n",
       " 'definitely': 645,\n",
       " 'called': 646,\n",
       " 'regretful': 647,\n",
       " 'front': 648,\n",
       " 'hesitant': 649,\n",
       " 'lousy': 650,\n",
       " 'www': 651,\n",
       " 'listen': 652,\n",
       " 'vain': 653,\n",
       " 'mellow': 654,\n",
       " 'trust': 655,\n",
       " 'weight': 656,\n",
       " 'delicious': 657,\n",
       " 'joy': 658,\n",
       " 'disturbed': 659,\n",
       " 'clever': 660,\n",
       " 'broke': 661,\n",
       " 'naughty': 662,\n",
       " 'upset': 663,\n",
       " 'nostalgic': 664,\n",
       " 'romantic': 665,\n",
       " 'fake': 666,\n",
       " 'supportive': 667,\n",
       " 'd': 668,\n",
       " 'shocked': 669,\n",
       " 'bitchy': 670,\n",
       " 'productive': 671,\n",
       " 'damaged': 672,\n",
       " 'ones': 673,\n",
       " 'yesterday': 674,\n",
       " 'eating': 675,\n",
       " 'waiting': 676,\n",
       " 'guys': 677,\n",
       " 'humiliated': 678,\n",
       " 'lives': 679,\n",
       " 'etc': 680,\n",
       " 'spend': 681,\n",
       " 'fearful': 682,\n",
       " 'fantastic': 683,\n",
       " 'outside': 684,\n",
       " 'resolved': 685,\n",
       " 'distracted': 686,\n",
       " 'true': 687,\n",
       " 'drained': 688,\n",
       " 'half': 689,\n",
       " 'troubled': 690,\n",
       " 'inadequate': 691,\n",
       " 'hour': 692,\n",
       " 'defeated': 693,\n",
       " 'course': 694,\n",
       " 'given': 695,\n",
       " 'energetic': 696,\n",
       " 'disgusted': 697,\n",
       " 'whatever': 698,\n",
       " 'tried': 699,\n",
       " 'intelligent': 700,\n",
       " 'suddenly': 701,\n",
       " 'shaky': 702,\n",
       " 'petty': 703,\n",
       " 'listless': 704,\n",
       " 'gentle': 705,\n",
       " 'unimportant': 706,\n",
       " 'trusting': 707,\n",
       " 'fabulous': 708,\n",
       " 'carefree': 709,\n",
       " 'boring': 710,\n",
       " 'second': 711,\n",
       " 'whenever': 712,\n",
       " 'relieved': 713,\n",
       " 'rotten': 714,\n",
       " 'welcomed': 715,\n",
       " 'lame': 716,\n",
       " 'skin': 717,\n",
       " 'behind': 718,\n",
       " 'generally': 719,\n",
       " 'christmas': 720,\n",
       " 'supposed': 721,\n",
       " 'eager': 722,\n",
       " 'deprived': 723,\n",
       " 'needy': 724,\n",
       " 'isnt': 725,\n",
       " 'exactly': 726,\n",
       " 'continue': 727,\n",
       " 'single': 728,\n",
       " 'deep': 729,\n",
       " 'unfortunate': 730,\n",
       " 'summer': 731,\n",
       " 'suffering': 732,\n",
       " 'list': 733,\n",
       " 'grateful': 734,\n",
       " 'under': 735,\n",
       " 'buy': 736,\n",
       " 'horny': 737,\n",
       " 'rebellious': 738,\n",
       " 'hold': 739,\n",
       " 'impatient': 740,\n",
       " 'play': 741,\n",
       " 'adventurous': 742,\n",
       " 'although': 743,\n",
       " 'realized': 744,\n",
       " 'doomed': 745,\n",
       " 'plan': 746,\n",
       " 'young': 747,\n",
       " 'worthwhile': 748,\n",
       " 'country': 749,\n",
       " 'word': 750,\n",
       " 'restless': 751,\n",
       " 'toward': 752,\n",
       " 'loyal': 753,\n",
       " 'tender': 754,\n",
       " 'thrilled': 755,\n",
       " 'peaceful': 756,\n",
       " 'order': 757,\n",
       " 'virtuous': 758,\n",
       " 'jaded': 759,\n",
       " 'smile': 760,\n",
       " 'girls': 761,\n",
       " 'car': 762,\n",
       " 'artistic': 763,\n",
       " 'taken': 764,\n",
       " 'deal': 765,\n",
       " 'ungrateful': 766,\n",
       " 'learned': 767,\n",
       " 'mood': 768,\n",
       " 'honoured': 769,\n",
       " 'fear': 770,\n",
       " 'invigorated': 771,\n",
       " 'normal': 772,\n",
       " 'students': 773,\n",
       " 'using': 774,\n",
       " 'forward': 775,\n",
       " 'wasn': 776,\n",
       " 'along': 777,\n",
       " 'game': 778,\n",
       " 'lack': 779,\n",
       " 'frightened': 780,\n",
       " 'boy': 781,\n",
       " 'problems': 782,\n",
       " 'movie': 783,\n",
       " 'men': 784,\n",
       " 'foolish': 785,\n",
       " 'later': 786,\n",
       " 'acceptable': 787,\n",
       " 'saw': 788,\n",
       " 'name': 789,\n",
       " 'contented': 790,\n",
       " 'abused': 791,\n",
       " 'within': 792,\n",
       " 'break': 793,\n",
       " 'constantly': 794,\n",
       " 'grumpy': 795,\n",
       " 'sat': 796,\n",
       " 'discontent': 797,\n",
       " 'stand': 798,\n",
       " 'telling': 799,\n",
       " 'learn': 800,\n",
       " 'seen': 801,\n",
       " 'moving': 802,\n",
       " 'emotions': 803,\n",
       " 'smug': 804,\n",
       " 'vital': 805,\n",
       " 'beginning': 806,\n",
       " 'lose': 807,\n",
       " 'dream': 808,\n",
       " 'moments': 809,\n",
       " 'art': 810,\n",
       " 'stomach': 811,\n",
       " 'oh': 812,\n",
       " 'triumphant': 813,\n",
       " 'opportunity': 814,\n",
       " 'delicate': 815,\n",
       " 'fall': 816,\n",
       " 'doesn': 817,\n",
       " 'fond': 818,\n",
       " 'desire': 819,\n",
       " 'privileged': 820,\n",
       " 'putting': 821,\n",
       " 'learning': 822,\n",
       " 'terrific': 823,\n",
       " 'minutes': 824,\n",
       " 'stubborn': 825,\n",
       " 'hands': 826,\n",
       " 'meet': 827,\n",
       " 'easy': 828,\n",
       " 'unloved': 829,\n",
       " 'upon': 830,\n",
       " 'submissive': 831,\n",
       " 'age': 832,\n",
       " 'casual': 833,\n",
       " 'team': 834,\n",
       " 'means': 835,\n",
       " 'ecstatic': 836,\n",
       " 'deeply': 837,\n",
       " 'walked': 838,\n",
       " 'type': 839,\n",
       " 'reassured': 840,\n",
       " 'begin': 841,\n",
       " 'goes': 842,\n",
       " 'piece': 843,\n",
       " 'shit': 844,\n",
       " 'wouldnt': 845,\n",
       " 'src': 846,\n",
       " 'worked': 847,\n",
       " 'peace': 848,\n",
       " 'human': 849,\n",
       " 'bring': 850,\n",
       " 'frantic': 851,\n",
       " 'focus': 852,\n",
       " 'worried': 853,\n",
       " 'gets': 854,\n",
       " 'looks': 855,\n",
       " 'healthy': 856,\n",
       " 'kept': 857,\n",
       " 'worth': 858,\n",
       " 'met': 859,\n",
       " 'speak': 860,\n",
       " 'imagine': 861,\n",
       " 'won': 862,\n",
       " 'yes': 863,\n",
       " 'despite': 864,\n",
       " 'group': 865,\n",
       " 'touch': 866,\n",
       " 'personal': 867,\n",
       " 'walking': 868,\n",
       " 'air': 869,\n",
       " 'wearing': 870,\n",
       " 'wants': 871,\n",
       " 'red': 872,\n",
       " 'possibly': 873,\n",
       " 'loss': 874,\n",
       " 'leaving': 875,\n",
       " 'suppose': 876,\n",
       " 'seriously': 877,\n",
       " 'late': 878,\n",
       " 'father': 879,\n",
       " 'space': 880,\n",
       " 'utterly': 881,\n",
       " 'chance': 882,\n",
       " 'phone': 883,\n",
       " 'month': 884,\n",
       " 'comments': 885,\n",
       " 'appreciative': 886,\n",
       " 'amount': 887,\n",
       " 'possible': 888,\n",
       " 'sentimental': 889,\n",
       " 'skeptical': 890,\n",
       " 'stories': 891,\n",
       " 'strongly': 892,\n",
       " 'finished': 893,\n",
       " 'arms': 894,\n",
       " 'across': 895,\n",
       " 'attention': 896,\n",
       " 'envious': 897,\n",
       " 'due': 898,\n",
       " 'tragic': 899,\n",
       " 'damn': 900,\n",
       " 'news': 901,\n",
       " 'amused': 902,\n",
       " 'heard': 903,\n",
       " 'short': 904,\n",
       " 'son': 905,\n",
       " 'tears': 906,\n",
       " 'perhaps': 907,\n",
       " 'quickly': 908,\n",
       " 'style': 909,\n",
       " 'known': 910,\n",
       " 'add': 911,\n",
       " 'spending': 912,\n",
       " 'recently': 913,\n",
       " 'brain': 914,\n",
       " 'questions': 915,\n",
       " 'fucking': 916,\n",
       " 'state': 917,\n",
       " 'community': 918,\n",
       " 'expect': 919,\n",
       " 'unpleasant': 920,\n",
       " 'truth': 921,\n",
       " 'theyre': 922,\n",
       " 'college': 923,\n",
       " 'img': 924,\n",
       " 'line': 925,\n",
       " 'wondering': 926,\n",
       " 'water': 927,\n",
       " 'gave': 928,\n",
       " 'keeping': 929,\n",
       " 'worse': 930,\n",
       " 'doubtful': 931,\n",
       " 'personally': 932,\n",
       " 'dazed': 933,\n",
       " 'finish': 934,\n",
       " 'crazy': 935,\n",
       " 'top': 936,\n",
       " 'disillusioned': 937,\n",
       " 'delighted': 938,\n",
       " 'picture': 939,\n",
       " 'emotionally': 940,\n",
       " 'pay': 941,\n",
       " 'level': 942,\n",
       " 'crying': 943,\n",
       " 'themselves': 944,\n",
       " 'sleeping': 945,\n",
       " 'race': 946,\n",
       " 'cut': 947,\n",
       " 'act': 948,\n",
       " 'voice': 949,\n",
       " 'managed': 950,\n",
       " 'party': 951,\n",
       " 'sadness': 952,\n",
       " 'spirit': 953,\n",
       " 'decision': 954,\n",
       " 'lots': 955,\n",
       " 'messy': 956,\n",
       " 'photos': 957,\n",
       " 'four': 958,\n",
       " 'usual': 959,\n",
       " 'reasons': 960,\n",
       " 'explain': 961,\n",
       " 'distressed': 962,\n",
       " 'everyday': 963,\n",
       " 'trip': 964,\n",
       " 'u': 965,\n",
       " 'effort': 966,\n",
       " 'stress': 967,\n",
       " 'hostile': 968,\n",
       " 'missing': 969,\n",
       " 'physically': 970,\n",
       " 'tomorrow': 971,\n",
       " 'light': 972,\n",
       " 'anger': 973,\n",
       " 'death': 974,\n",
       " 'decide': 975,\n",
       " 'lazy': 976,\n",
       " 'choice': 977,\n",
       " 'wait': 978,\n",
       " 'fairly': 979,\n",
       " 'weather': 980,\n",
       " 'hit': 981,\n",
       " 'remorseful': 982,\n",
       " 'listening': 983,\n",
       " 'anyway': 984,\n",
       " 'early': 985,\n",
       " 'church': 986,\n",
       " 'general': 987,\n",
       " 'step': 988,\n",
       " 'mostly': 989,\n",
       " 'passed': 990,\n",
       " 'tend': 991,\n",
       " 'glamorous': 992,\n",
       " 'please': 993,\n",
       " 'keen': 994,\n",
       " 'looked': 995,\n",
       " 'gotten': 996,\n",
       " 'forget': 997,\n",
       " 'asking': 998,\n",
       " 'issues': 999,\n",
       " 'blogging': 1000,\n",
       " ...}"
      ]
     },
     "execution_count": 57,
     "metadata": {},
     "output_type": "execute_result"
    }
   ],
   "source": [
    "tokenizer.word_index"
   ]
  },
  {
   "cell_type": "code",
   "execution_count": 58,
   "metadata": {},
   "outputs": [],
   "source": [
    "sequences = tokenizer.texts_to_sequences(messages)\n"
   ]
  },
  {
   "cell_type": "markdown",
   "metadata": {},
   "source": [
    "Далее посмотрим как будет выглядеть рандомное сообщение в виде набора чисел:"
   ]
  },
  {
   "cell_type": "code",
   "execution_count": 59,
   "metadata": {},
   "outputs": [
    {
     "name": "stdout",
     "output_type": "stream",
     "text": [
      "i can go from feeling so hopeless to so damned hopeful just from being around someone who cares and is awake\n",
      "[1, 39, 100, 59, 7, 14, 493, 4, 14, 3495, 552, 31, 59, 60, 127, 147, 75, 1479, 3, 21, 1254]\n"
     ]
    }
   ],
   "source": [
    "index = 1\n",
    "print(messages[index])\n",
    "print(sequences[index])"
   ]
  },
  {
   "cell_type": "markdown",
   "metadata": {},
   "source": [
    "Далее ограничивается длина сообщений для тренировки(30 слов), если количество слов меньше 30, то сообщение записывается с конца, а оставшееся место заполняется нулями."
   ]
  },
  {
   "cell_type": "code",
   "execution_count": 60,
   "metadata": {},
   "outputs": [],
   "source": [
    "x_train = pad_sequences(sequences, maxlen=max_messages_len)"
   ]
  },
  {
   "cell_type": "code",
   "execution_count": 61,
   "metadata": {},
   "outputs": [
    {
     "data": {
      "text/plain": [
       "array([[   0,    0,    0,    0,    0,    0,    0,    0,    0,    0,    0,\n",
       "           0,    0,    0,    0,    0,    0,    0,    0,    0,    0,    0,\n",
       "           0,    0,    0,    0,    1,  138,    2,  678],\n",
       "       [   0,    0,    0,    0,    0,    0,    0,    0,    0,    1,   39,\n",
       "         100,   59,    7,   14,  493,    4,   14, 3495,  552,   31,   59,\n",
       "          60,  127,  147,   75, 1479,    3,   21, 1254],\n",
       "       [   0,    0,    0,    0,    0,    0,    0,    0,    0,    0,    0,\n",
       "           0,    0,    0,    0,    0,    0,    0,    0,    0,   16, 3059,\n",
       "           6, 1148,    4,  285,    1,    2,  494,  437],\n",
       "       [   0,    0,    0,    0,    0,    0,    0,    0,    0,    0,    0,\n",
       "           0,    1,   23,  164,    7,  664,   26,    5, 4157,    1,   58,\n",
       "          46,    8,   12,   21,   71,   29,    5, 3496],\n",
       "       [   0,    0,    0,    0,    0,    0,    0,    0,    0,    0,    0,\n",
       "           0,    0,    0,    0,    0,    0,    0,    0,    0,    0,    0,\n",
       "           0,    0,    0,    0,    1,   23,    7, 1064]])"
      ]
     },
     "execution_count": 61,
     "metadata": {},
     "output_type": "execute_result"
    }
   ],
   "source": [
    "x_train[:5]"
   ]
  },
  {
   "cell_type": "markdown",
   "metadata": {},
   "source": [
    "Далее создадим нейронную сеть(сверточную, библиотека Keras)"
   ]
  },
  {
   "cell_type": "code",
   "execution_count": 62,
   "metadata": {},
   "outputs": [],
   "source": [
    "model_cnn = Sequential()\n",
    "model_cnn.add(Embedding(num_words, 32, input_length=max_messages_len))\n",
    "model_cnn.add(Conv1D(250, 5, padding='valid', activation='relu'))\n",
    "model_cnn.add(GlobalMaxPooling1D())\n",
    "model_cnn.add(Dense(128, activation='relu'))\n",
    "model_cnn.add(Dense(6, activation='softmax'))"
   ]
  },
  {
   "cell_type": "code",
   "execution_count": 63,
   "metadata": {},
   "outputs": [],
   "source": [
    "model_cnn.compile(optimizer='adam', \n",
    "              loss='categorical_crossentropy', \n",
    "              metrics=['accuracy'])"
   ]
  },
  {
   "cell_type": "code",
   "execution_count": 64,
   "metadata": {},
   "outputs": [
    {
     "name": "stdout",
     "output_type": "stream",
     "text": [
      "Model: \"sequential_1\"\n",
      "_________________________________________________________________\n",
      " Layer (type)                Output Shape              Param #   \n",
      "=================================================================\n",
      " embedding_1 (Embedding)     (None, 30, 32)            320000    \n",
      "                                                                 \n",
      " conv1d_1 (Conv1D)           (None, 26, 250)           40250     \n",
      "                                                                 \n",
      " global_max_pooling1d_1 (Glo  (None, 250)              0         \n",
      " balMaxPooling1D)                                                \n",
      "                                                                 \n",
      " dense_2 (Dense)             (None, 128)               32128     \n",
      "                                                                 \n",
      " dense_3 (Dense)             (None, 6)                 774       \n",
      "                                                                 \n",
      "=================================================================\n",
      "Total params: 393,152\n",
      "Trainable params: 393,152\n",
      "Non-trainable params: 0\n",
      "_________________________________________________________________\n"
     ]
    }
   ],
   "source": [
    "model_cnn.summary()"
   ]
  },
  {
   "cell_type": "markdown",
   "metadata": {},
   "source": [
    "Далее прописываем название файла, в котором будет сохранена лучшая из получившихся моделей, в дальнейшем можно будет выгружать из этого файла готовую модель('best_model_cnn.h5')"
   ]
  },
  {
   "cell_type": "code",
   "execution_count": 65,
   "metadata": {},
   "outputs": [],
   "source": [
    "model_cnn_save_path = 'best_model_cnn.h5'\n",
    "checkpoint_callback_cnn = ModelCheckpoint(model_cnn_save_path, \n",
    "                                      monitor='val_accuracy',\n",
    "                                      save_best_only=True,\n",
    "                                      verbose=1)"
   ]
  },
  {
   "cell_type": "markdown",
   "metadata": {},
   "source": [
    "Далее обучаем нашу нейронную сеть и сохраним модель в файле 'best_model_cnn.h5'"
   ]
  },
  {
   "cell_type": "code",
   "execution_count": 66,
   "metadata": {},
   "outputs": [
    {
     "name": "stdout",
     "output_type": "stream",
     "text": [
      "Epoch 1/5\n",
      "113/113 [==============================] - ETA: 0s - loss: 1.5406 - accuracy: 0.3917\n",
      "Epoch 1: val_accuracy improved from -inf to 0.58438, saving model to best_model_cnn.h5\n",
      "113/113 [==============================] - 9s 35ms/step - loss: 1.5406 - accuracy: 0.3917 - val_loss: 1.1778 - val_accuracy: 0.5844\n",
      "Epoch 2/5\n",
      "112/113 [============================>.] - ETA: 0s - loss: 0.7015 - accuracy: 0.7598\n",
      "Epoch 2: val_accuracy improved from 0.58438 to 0.87187, saving model to best_model_cnn.h5\n",
      "113/113 [==============================] - 2s 19ms/step - loss: 0.6997 - accuracy: 0.7603 - val_loss: 0.3773 - val_accuracy: 0.8719\n",
      "Epoch 3/5\n",
      "110/113 [============================>.] - ETA: 0s - loss: 0.2417 - accuracy: 0.9175\n",
      "Epoch 3: val_accuracy improved from 0.87187 to 0.89312, saving model to best_model_cnn.h5\n",
      "113/113 [==============================] - 2s 19ms/step - loss: 0.2418 - accuracy: 0.9172 - val_loss: 0.2933 - val_accuracy: 0.8931\n",
      "Epoch 4/5\n",
      "112/113 [============================>.] - ETA: 0s - loss: 0.1288 - accuracy: 0.9542\n",
      "Epoch 4: val_accuracy improved from 0.89312 to 0.89625, saving model to best_model_cnn.h5\n",
      "113/113 [==============================] - 2s 17ms/step - loss: 0.1290 - accuracy: 0.9540 - val_loss: 0.2955 - val_accuracy: 0.8963\n",
      "Epoch 5/5\n",
      "113/113 [==============================] - ETA: 0s - loss: 0.0775 - accuracy: 0.9734\n",
      "Epoch 5: val_accuracy improved from 0.89625 to 0.89875, saving model to best_model_cnn.h5\n",
      "113/113 [==============================] - 2s 16ms/step - loss: 0.0775 - accuracy: 0.9734 - val_loss: 0.3237 - val_accuracy: 0.8988\n"
     ]
    }
   ],
   "source": [
    "history_cnn = model_cnn.fit(x_train, \n",
    "                            y_train, \n",
    "                            epochs=5,\n",
    "                            batch_size=128,\n",
    "                            validation_split=0.1,\n",
    "                            callbacks=[checkpoint_callback_cnn])"
   ]
  },
  {
   "cell_type": "markdown",
   "metadata": {},
   "source": [
    "Далее посмотрим процесс обучения нейронной сети на графике:"
   ]
  },
  {
   "cell_type": "code",
   "execution_count": 67,
   "metadata": {},
   "outputs": [
    {
     "data": {
      "image/png": "[encoded data removed]",
      "text/plain": [
       "<Figure size 640x480 with 1 Axes>"
      ]
     },
     "metadata": {},
     "output_type": "display_data"
    }
   ],
   "source": [
    "plt.plot(history_cnn.history['accuracy'], \n",
    "         label='Доля верных ответов на обучающем наборе')\n",
    "plt.plot(history_cnn.history['val_accuracy'], \n",
    "         label='Доля верных ответов на проверочном наборе')\n",
    "plt.xlabel('Эпоха обучения')\n",
    "plt.ylabel('Доля верных ответов')\n",
    "plt.legend()\n",
    "plt.show()"
   ]
  },
  {
   "cell_type": "markdown",
   "metadata": {},
   "source": [
    "Далее протестируем нашу нейросеть на данных, не пересекающихся с данными для тренировки нейросети, для этого для начала загрузим файл с тестовыми данными:"
   ]
  },
  {
   "cell_type": "code",
   "execution_count": 68,
   "metadata": {},
   "outputs": [],
   "source": [
    "test = pd.read_csv('test.csv',\n",
    "                    sep = ';',\n",
    "                    header=None, \n",
    "                    names=['text', 'class'])"
   ]
  },
  {
   "cell_type": "code",
   "execution_count": 69,
   "metadata": {},
   "outputs": [
    {
     "data": {
      "text/html": [
       "<div>\n",
       "<style scoped>\n",
       "    .dataframe tbody tr th:only-of-type {\n",
       "        vertical-align: middle;\n",
       "    }\n",
       "\n",
       "    .dataframe tbody tr th {\n",
       "        vertical-align: top;\n",
       "    }\n",
       "\n",
       "    .dataframe thead th {\n",
       "        text-align: right;\n",
       "    }\n",
       "</style>\n",
       "<table border=\"1\" class=\"dataframe\">\n",
       "  <thead>\n",
       "    <tr style=\"text-align: right;\">\n",
       "      <th></th>\n",
       "      <th>text</th>\n",
       "      <th>class</th>\n",
       "    </tr>\n",
       "  </thead>\n",
       "  <tbody>\n",
       "    <tr>\n",
       "      <th>0</th>\n",
       "      <td>im feeling rather rotten so im not very ambiti...</td>\n",
       "      <td>1</td>\n",
       "    </tr>\n",
       "    <tr>\n",
       "      <th>1</th>\n",
       "      <td>im updating my blog because i feel shitty</td>\n",
       "      <td>1</td>\n",
       "    </tr>\n",
       "    <tr>\n",
       "      <th>2</th>\n",
       "      <td>i never make her separate from me because i do...</td>\n",
       "      <td>1</td>\n",
       "    </tr>\n",
       "    <tr>\n",
       "      <th>3</th>\n",
       "      <td>i left with my bouquet of red and yellow tulip...</td>\n",
       "      <td>2</td>\n",
       "    </tr>\n",
       "    <tr>\n",
       "      <th>4</th>\n",
       "      <td>i was feeling a little vain when i did this one</td>\n",
       "      <td>1</td>\n",
       "    </tr>\n",
       "    <tr>\n",
       "      <th>...</th>\n",
       "      <td>...</td>\n",
       "      <td>...</td>\n",
       "    </tr>\n",
       "    <tr>\n",
       "      <th>1995</th>\n",
       "      <td>i just keep feeling like someone is being unki...</td>\n",
       "      <td>4</td>\n",
       "    </tr>\n",
       "    <tr>\n",
       "      <th>1996</th>\n",
       "      <td>im feeling a little cranky negative after this...</td>\n",
       "      <td>4</td>\n",
       "    </tr>\n",
       "    <tr>\n",
       "      <th>1997</th>\n",
       "      <td>i feel that i am useful to my people and that ...</td>\n",
       "      <td>2</td>\n",
       "    </tr>\n",
       "    <tr>\n",
       "      <th>1998</th>\n",
       "      <td>im feeling more comfortable with derby i feel ...</td>\n",
       "      <td>2</td>\n",
       "    </tr>\n",
       "    <tr>\n",
       "      <th>1999</th>\n",
       "      <td>i feel all weird when i have to meet w people ...</td>\n",
       "      <td>5</td>\n",
       "    </tr>\n",
       "  </tbody>\n",
       "</table>\n",
       "<p>2000 rows × 2 columns</p>\n",
       "</div>"
      ],
      "text/plain": [
       "                                                   text  class\n",
       "0     im feeling rather rotten so im not very ambiti...      1\n",
       "1             im updating my blog because i feel shitty      1\n",
       "2     i never make her separate from me because i do...      1\n",
       "3     i left with my bouquet of red and yellow tulip...      2\n",
       "4       i was feeling a little vain when i did this one      1\n",
       "...                                                 ...    ...\n",
       "1995  i just keep feeling like someone is being unki...      4\n",
       "1996  im feeling a little cranky negative after this...      4\n",
       "1997  i feel that i am useful to my people and that ...      2\n",
       "1998  im feeling more comfortable with derby i feel ...      2\n",
       "1999  i feel all weird when i have to meet w people ...      5\n",
       "\n",
       "[2000 rows x 2 columns]"
      ]
     },
     "execution_count": 69,
     "metadata": {},
     "output_type": "execute_result"
    }
   ],
   "source": [
    "test"
   ]
  },
  {
   "cell_type": "code",
   "execution_count": 70,
   "metadata": {},
   "outputs": [],
   "source": [
    "test_sequences = tokenizer.texts_to_sequences(test['text'])\n",
    "x_test = pad_sequences(test_sequences, maxlen=max_messages_len)"
   ]
  },
  {
   "cell_type": "code",
   "execution_count": 71,
   "metadata": {},
   "outputs": [
    {
     "data": {
      "text/plain": [
       "array([[   0,    0,    0,    0,    0,    0,    0,    0,    0,    0,    0,\n",
       "           0,    0,    0,    0,    0,    0,    0,    0,   16,    7,  202,\n",
       "         714,   14,   16,   25,   45, 5594,  113,   57],\n",
       "       [   0,    0,    0,    0,    0,    0,    0,    0,    0,    0,    0,\n",
       "           0,    0,    0,    0,    0,    0,    0,    0,    0,    0,    0,\n",
       "           0,   16,   10,  242,   36,    1,    2,  468],\n",
       "       [   0,    0,    0,    0,    0,    0,    0,    0,    1,  144,   79,\n",
       "          67, 2970,   59,   17,   36,    1,  103,   42,  164,   66,   67,\n",
       "           4,    2,   13,    1,   92,  405,   24,   67],\n",
       "       [   0,    0,    0,    0,    0,    0,    0,    0,    0,    0,    0,\n",
       "           1,  171,   24,   10,    9,  872,    3, 5365,  735,   10, 1517,\n",
       "           7,  350,   37,  607,   94,   33,    1, 1972],\n",
       "       [   0,    0,    0,    0,    0,    0,    0,    0,    0,    0,    0,\n",
       "           0,    0,    0,    0,    0,    0,    0,    0,    1,   19,    7,\n",
       "           6,   55,  653,   33,    1,  126,   22,   70]])"
      ]
     },
     "execution_count": 71,
     "metadata": {},
     "output_type": "execute_result"
    }
   ],
   "source": [
    "x_test[:5]"
   ]
  },
  {
   "cell_type": "code",
   "execution_count": 72,
   "metadata": {},
   "outputs": [],
   "source": [
    "y_test = utils.to_categorical(test['class'] - 1, nb_classes)"
   ]
  },
  {
   "cell_type": "code",
   "execution_count": 73,
   "metadata": {},
   "outputs": [
    {
     "data": {
      "text/plain": [
       "array([[1., 0., 0., 0., 0., 0.],\n",
       "       [1., 0., 0., 0., 0., 0.],\n",
       "       [1., 0., 0., 0., 0., 0.],\n",
       "       ...,\n",
       "       [0., 1., 0., 0., 0., 0.],\n",
       "       [0., 1., 0., 0., 0., 0.],\n",
       "       [0., 0., 0., 0., 1., 0.]], dtype=float32)"
      ]
     },
     "execution_count": 73,
     "metadata": {},
     "output_type": "execute_result"
    }
   ],
   "source": [
    "y_test"
   ]
  },
  {
   "cell_type": "code",
   "execution_count": 74,
   "metadata": {},
   "outputs": [],
   "source": [
    "model_cnn.load_weights(model_cnn_save_path)"
   ]
  },
  {
   "cell_type": "markdown",
   "metadata": {},
   "source": [
    "Далее проверим насколько точно модель справится с классификацией сообщений из тестового набора данных:"
   ]
  },
  {
   "cell_type": "code",
   "execution_count": 75,
   "metadata": {},
   "outputs": [
    {
     "name": "stdout",
     "output_type": "stream",
     "text": [
      "63/63 [==============================] - 0s 2ms/step - loss: 0.3271 - accuracy: 0.8995\n"
     ]
    },
    {
     "data": {
      "text/plain": [
       "[0.3270876407623291, 0.8995000123977661]"
      ]
     },
     "execution_count": 75,
     "metadata": {},
     "output_type": "execute_result"
    }
   ],
   "source": [
    "model_cnn.evaluate(x_test, y_test, verbose=1)"
   ]
  },
  {
   "cell_type": "markdown",
   "metadata": {},
   "source": [
    "Как видно, доля правильных ответов равна 0.8995(89,95%), что вполне неплохо."
   ]
  },
  {
   "cell_type": "markdown",
   "metadata": {},
   "source": [
    "Далее проверим работу созданной модели, подавая ей на вход произвольный текст"
   ]
  },
  {
   "cell_type": "code",
   "execution_count": 89,
   "metadata": {},
   "outputs": [],
   "source": [
    "text = 'i feel incredibly lucky just to be able to talk to her'\n",
    "sequence = tokenizer.texts_to_sequences([text])\n"
   ]
  },
  {
   "cell_type": "code",
   "execution_count": 90,
   "metadata": {},
   "outputs": [
    {
     "data": {
      "text/plain": [
       "[[1, 2, 13, 1, 23, 71, 252, 32, 6, 617, 2742, 617, 1417, 9, 1103]]"
      ]
     },
     "execution_count": 90,
     "metadata": {},
     "output_type": "execute_result"
    }
   ],
   "source": [
    "sequence"
   ]
  },
  {
   "cell_type": "code",
   "execution_count": 91,
   "metadata": {},
   "outputs": [],
   "source": [
    "data = pad_sequences(sequence, maxlen = max_messages_len)\n"
   ]
  },
  {
   "cell_type": "code",
   "execution_count": 92,
   "metadata": {},
   "outputs": [
    {
     "data": {
      "text/plain": [
       "array([[   0,    0,    0,    0,    0,    0,    0,    0,    0,    0,    0,\n",
       "           0,    0,    0,    0,    1,    2,   13,    1,   23,   71,  252,\n",
       "          32,    6,  617, 2742,  617, 1417,    9, 1103]])"
      ]
     },
     "execution_count": 92,
     "metadata": {},
     "output_type": "execute_result"
    }
   ],
   "source": [
    "data"
   ]
  },
  {
   "cell_type": "code",
   "execution_count": 93,
   "metadata": {},
   "outputs": [
    {
     "name": "stdout",
     "output_type": "stream",
     "text": [
      "1/1 [==============================] - 0s 139ms/step\n"
     ]
    }
   ],
   "source": [
    "result = model_cnn.predict(data)"
   ]
  },
  {
   "cell_type": "code",
   "execution_count": 94,
   "metadata": {},
   "outputs": [
    {
     "data": {
      "text/plain": [
       "array([[9.9939275e-01, 1.0544360e-06, 1.4106730e-07, 4.6529871e-04,\n",
       "        1.4077683e-04, 3.2404103e-08]], dtype=float32)"
      ]
     },
     "execution_count": 94,
     "metadata": {},
     "output_type": "execute_result"
    }
   ],
   "source": [
    "result"
   ]
  },
  {
   "cell_type": "markdown",
   "metadata": {},
   "source": [
    "В качестве выходных данных выдается массив с 6 числами, каждая из которых является вероятностью, что входное сообщение относится к соответствующему классу:"
   ]
  },
  {
   "cell_type": "code",
   "execution_count": 95,
   "metadata": {},
   "outputs": [],
   "source": [
    "predicted_value = result.argmax()\n",
    "predicted_value\n",
    "def show_result(predicted_value):\n",
    "    if predicted_value == 0:\n",
    "        return 'sadness'\n",
    "    if predicted_value == 1:\n",
    "        return 'joy'\n",
    "    if predicted_value == 2:\n",
    "        return 'love'\n",
    "    if predicted_value == 3:\n",
    "        return 'anger'\n",
    "    if predicted_value == 4:\n",
    "        return 'fear'\n",
    "    if predicted_value == 5:\n",
    "        return 'surprise'\n",
    "    return 'neutral'"
   ]
  },
  {
   "cell_type": "markdown",
   "metadata": {},
   "source": [
    "Результат можно увидеть ниже:"
   ]
  },
  {
   "cell_type": "code",
   "execution_count": 96,
   "metadata": {},
   "outputs": [
    {
     "data": {
      "text/plain": [
       "'sadness'"
      ]
     },
     "execution_count": 96,
     "metadata": {},
     "output_type": "execute_result"
    }
   ],
   "source": [
    "show_result(predicted_value)\n"
   ]
  },
  {
   "cell_type": "markdown",
   "metadata": {},
   "source": [
    "Далее загрузим полученную модель, сохраненную в файле best_model_cnn.h5 и проверим ее работу с теми же входными данными, должна загрузиться модель, полностью идентичная созданной ранее."
   ]
  },
  {
   "cell_type": "code",
   "execution_count": 85,
   "metadata": {},
   "outputs": [],
   "source": [
    "from keras.models import load_model"
   ]
  },
  {
   "cell_type": "code",
   "execution_count": 86,
   "metadata": {},
   "outputs": [],
   "source": [
    "loaded_model = load_model('best_model_cnn.h5')"
   ]
  },
  {
   "cell_type": "code",
   "execution_count": 87,
   "metadata": {},
   "outputs": [
    {
     "name": "stdout",
     "output_type": "stream",
     "text": [
      "1/1 [==============================] - 0s 155ms/step\n"
     ]
    },
    {
     "data": {
      "text/plain": [
       "5"
      ]
     },
     "execution_count": 87,
     "metadata": {},
     "output_type": "execute_result"
    }
   ],
   "source": [
    "test_result=loaded_model.predict(data)\n",
    "new_predicted_value = test_result.argmax()\n",
    "new_predicted_value"
   ]
  },
  {
   "cell_type": "code",
   "execution_count": 88,
   "metadata": {},
   "outputs": [
    {
     "data": {
      "text/plain": [
       "'surprise'"
      ]
     },
     "execution_count": 88,
     "metadata": {},
     "output_type": "execute_result"
    }
   ],
   "source": [
    "show_result(new_predicted_value)"
   ]
  },
  {
   "cell_type": "markdown",
   "metadata": {},
   "source": [
    "Как видно, загруженная модель работает"
   ]
  }
 ],
 "metadata": {
  "kernelspec": {
   "display_name": "Python 3.10.0 64-bit",
   "language": "python",
   "name": "python3"
  },
  "language_info": {
   "codemirror_mode": {
    "name": "ipython",
    "version": 3
   },
   "file_extension": ".py",
   "mimetype": "text/x-python",
   "name": "python",
   "nbconvert_exporter": "python",
   "pygments_lexer": "ipython3",
   "version": "3.10.0"
  },
  "orig_nbformat": 4,
  "vscode": {
   "interpreter": {
    "hash": "0b3b5429a3febb1b78c00b95783ed4bd6ea6d419900b69d3b0f5ce474a50d6cc"
   }
  }
 },
 "nbformat": 4,
 "nbformat_minor": 2
}
